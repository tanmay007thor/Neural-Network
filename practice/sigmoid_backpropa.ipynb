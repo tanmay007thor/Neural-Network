{
 "cells": [
  {
   "cell_type": "code",
   "execution_count": 1,
   "metadata": {},
   "outputs": [
    {
     "name": "stdout",
     "output_type": "stream",
     "text": [
      "Input: [0 0], Predicted Output: 0, Binary Output: 0\n",
      "Input: [0 1], Predicted Output: 1, Binary Output: 1\n",
      "Input: [1 0], Predicted Output: 1, Binary Output: 1\n",
      "Input: [1 1], Predicted Output: 0, Binary Output: 0\n",
      "[[0]\n",
      " [1]\n",
      " [1]\n",
      " [0]]\n"
     ]
    }
   ],
   "source": [
    "import numpy as np\n",
    "\n",
    "def sigmoid(x):\n",
    "    return 1 / (1 + np.exp(-x))\n",
    "\n",
    "def threshold(x):\n",
    "    return 1 if x > 0.5 else 0\n",
    "\n",
    "X = np.array([[0, 0],\n",
    "              [0, 1],\n",
    "              [1, 0],\n",
    "              [1, 1]])\n",
    "\n",
    "Y = np.array([[0],\n",
    "              [1],\n",
    "              [1],\n",
    "              [0]])\n",
    "\n",
    "input_size = 2\n",
    "hidden_size = 2\n",
    "output_size = 1\n",
    "learning_rate = 0.01\n",
    "epochs = 100000\n",
    "error_history = []\n",
    "\n",
    "\n",
    "weights_input_hidden = np.random.uniform(size=(input_size, hidden_size))\n",
    "bias_hidden = np.zeros((1, hidden_size))\n",
    "weights_hidden_output = np.random.uniform(size=(hidden_size, output_size))\n",
    "bias_output = np.zeros((1, output_size))\n",
    "\n",
    "for epoch in range(epochs):\n",
    "    hidden_input = np.dot(X, weights_input_hidden) + bias_hidden\n",
    "    hidden_output = sigmoid(hidden_input)\n",
    "\n",
    "    output_input = np.dot(hidden_output, weights_hidden_output) + bias_output\n",
    "    predicted_output = sigmoid(output_input)\n",
    "\n",
    "    error = Y - predicted_output\n",
    "    error_history.append(error)\n",
    "    output_delta = error * (predicted_output * (1 - predicted_output))\n",
    "    hidden_error = output_delta.dot(weights_hidden_output.T)\n",
    "    hidden_delta = hidden_error * (hidden_output * (1 - hidden_output))\n",
    "\n",
    "    weights_hidden_output += hidden_output.T.dot(output_delta) * learning_rate\n",
    "    bias_output += np.sum(output_delta, axis=0, keepdims=True) * learning_rate\n",
    "\n",
    "    weights_input_hidden += X.T.dot(hidden_delta) * learning_rate\n",
    "    bias_hidden += np.sum(hidden_delta, axis=0, keepdims=True) * learning_rate\n",
    "\n",
    "test_data = np.array([[0, 0], [0, 1], [1, 0], [1, 1]])\n",
    "for input_data in test_data:\n",
    "    hidden_input = np.dot(input_data, weights_input_hidden) + bias_hidden\n",
    "    hidden_output = sigmoid(hidden_input)\n",
    "\n",
    "    output_input = np.dot(hidden_output, weights_hidden_output) + bias_output\n",
    "    predicted_output = sigmoid(output_input)\n",
    "\n",
    "    binary_output = threshold(predicted_output)\n",
    "\n",
    "    print(f\"Input: {input_data}, Predicted Output: {binary_output}, Binary Output: {binary_output}\")\n",
    "\n",
    "print(Y)\n"
   ]
  }
 ],
 "metadata": {
  "kernelspec": {
   "display_name": "Python 3",
   "language": "python",
   "name": "python3"
  },
  "language_info": {
   "codemirror_mode": {
    "name": "ipython",
    "version": 3
   },
   "file_extension": ".py",
   "mimetype": "text/x-python",
   "name": "python",
   "nbconvert_exporter": "python",
   "pygments_lexer": "ipython3",
   "version": "3.11.8"
  }
 },
 "nbformat": 4,
 "nbformat_minor": 2
}
